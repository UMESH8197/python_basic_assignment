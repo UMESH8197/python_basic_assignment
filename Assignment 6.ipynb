{
 "cells": [
  {
   "cell_type": "code",
   "execution_count": null,
   "id": "2b9c26d0",
   "metadata": {},
   "outputs": [],
   "source": [
    "1. What are escape characters, and how do you use them?\n",
    "2. What do the escape characters n and t stand for?\n",
    "3. What is the way to include backslash characters in a string?\n",
    "4. The string \"Howl's Moving Castle\"  is a correct value. Why is not the single quote character in the\n",
    "word Howls not escaped a problem?\n",
    "5. How do you write a string of newlines if you don't want to use the n character?\n",
    "6. What are the values of the given expressions?\n",
    "'Hello, world!'[1]\n",
    "'Hello, world!'[0:5]\n",
    "'Hello, world!'[:5]\n",
    "'Hello, world!'[3:]\n",
    "\n",
    "7. What are the values of the following expressions?\n",
    "Hello.upper()\n",
    "Hello.upper().isupper()\n",
    "Hello.upper().lower()\n",
    "8.What are the values of the following expressions ?\n",
    "'Remember, remember, the fifith of July.'.split()\n",
    "-'.join('There can only one'.split())\n",
    "9. What are the methods for right-justifying, left-justifying, and centering a string?\n",
    "10. What is the best way to remove whitespace characters from the start or end?"
   ]
  },
  {
   "cell_type": "code",
   "execution_count": 2,
   "id": "43e1bb11",
   "metadata": {},
   "outputs": [],
   "source": [
    "# 1. What are escape characters, and how do you use them?\n",
    "Escape characters represent characters in string values that would otherwise be difficult or impossible to type into code.\n",
    "we can use the backslash character to escape a single character or symbol\n",
    "example: \\t, \\n\n",
    "\n",
    "a = \" I am a student of \\\"iNeuron\\\" and i have joined FSDS course.\""
   ]
  },
  {
   "cell_type": "code",
   "execution_count": 3,
   "id": "cf2266ad",
   "metadata": {},
   "outputs": [
    {
     "data": {
      "text/plain": [
       "' I am a student of \"iNeuron\" and i have joined FSDS course.'"
      ]
     },
     "execution_count": 3,
     "metadata": {},
     "output_type": "execute_result"
    }
   ],
   "source": [
    "a"
   ]
  },
  {
   "cell_type": "code",
   "execution_count": 11,
   "id": "25321140",
   "metadata": {},
   "outputs": [
    {
     "name": "stdout",
     "output_type": "stream",
     "text": [
      " I am a student of iNeuron. \n",
      " I have joined FSDS course.\n",
      " I am a student of iNeuron.\t I have joined FSDS course.\n"
     ]
    }
   ],
   "source": [
    "# 2. What do the escape characters n and t stand for?\n",
    "# \\n  stand for a newline, \\t stand for a tab.\n",
    "\n",
    "a = \" I am a student of iNeuron. \\n I have joined FSDS course.\"\n",
    "print(a) \n",
    "\n",
    "a = \" I am a student of iNeuron.\\t I have joined FSDS course.\"\n",
    "print(a) "
   ]
  },
  {
   "cell_type": "code",
   "execution_count": null,
   "id": "0b1b0f7e",
   "metadata": {},
   "outputs": [],
   "source": [
    "# 3. What is the way to include backslash characters in a string?\n",
    "The \\\\ escape character will represent the backslash character in a string"
   ]
  },
  {
   "cell_type": "code",
   "execution_count": null,
   "id": "fdc5e72d",
   "metadata": {},
   "outputs": [],
   "source": [
    "# 4. The string \"Howl's Moving Castle\"  is a correct value. Why is not the single quote character in the\n",
    "# word Howl's not escaped a problem?\n",
    " The string \"Howl's Moving Castle\" escaped the problem because it is wrapped inside double quotes.\n",
    "If its wrapped inside single quotes then we have to use escape character \\' to show single quote in the final output"
   ]
  },
  {
   "cell_type": "code",
   "execution_count": 15,
   "id": "dbe2ce30",
   "metadata": {},
   "outputs": [
    {
     "name": "stdout",
     "output_type": "stream",
     "text": [
      "I am a student of iNeuron. \n",
      "I have joined FSDS course.\n"
     ]
    }
   ],
   "source": [
    "# 5. How do you write a string of newlines if you don't want to use the n character?\n",
    "Multiline string allow you to use newlines in string without the \\n escape character.\n",
    "a = '''I am a student of iNeuron. \n",
    "I have joined FSDS course.'''\n",
    "print(a)"
   ]
  },
  {
   "cell_type": "code",
   "execution_count": 18,
   "id": "a1d62c6b",
   "metadata": {},
   "outputs": [],
   "source": [
    "# 6. What are the values of the given expressions?\n",
    "# 'Hello, world!'[1]\n",
    "# 'Hello, world!'[0:5]\n",
    "# 'Hello, world!'[:5]\n",
    "# 'Hello, world!'[3:]\n",
    " \n",
    "'Hello, world!'[1] = 'e'\n",
    "'Hello, world!'[0:5] = 'Hello'\n",
    "'Hello, world!'[:5] = 'Hello'\n",
    "'Hello, world!'[3:] = 'lo, world!'"
   ]
  },
  {
   "cell_type": "code",
   "execution_count": 20,
   "id": "c44cf625",
   "metadata": {},
   "outputs": [],
   "source": [
    "# 7. What are the values of the following expressions?\n",
    "# 'Hello'.upper()\n",
    "# 'Hello'.upper().isupper()\n",
    "# 'Hello'.upper().lower()\n",
    "\n",
    "'Hello'.upper() = 'HELLO'\n",
    "'Hello'.upper().isupper() = True\n",
    "'Hello'.upper().lower() ='hello'"
   ]
  },
  {
   "cell_type": "code",
   "execution_count": null,
   "id": "6c74a9e2",
   "metadata": {},
   "outputs": [],
   "source": [
    "# 8.What are the values of the following expressions ?\n",
    "# 'Remember, remember, the fifith of July.'.split()\n",
    "# -'.join('There can only one'.split())\n",
    "\n",
    "\n",
    "# 'Remember, remember, the fifith of July.'.split()\n",
    "= ['Remember,', 'remember,', 'the', 'fifith', 'of', 'July.']\n",
    "# '-'.join('There can only one'.split())\n",
    "= 'There-can-only-one'"
   ]
  },
  {
   "cell_type": "code",
   "execution_count": 22,
   "id": "dad5f339",
   "metadata": {},
   "outputs": [
    {
     "data": {
      "text/plain": [
       "'There-can-only-one'"
      ]
     },
     "execution_count": 22,
     "metadata": {},
     "output_type": "execute_result"
    }
   ],
   "source": [
    "'-'.join('There can only one'.split())"
   ]
  },
  {
   "cell_type": "code",
   "execution_count": 32,
   "id": "9d9bf410",
   "metadata": {},
   "outputs": [
    {
     "name": "stdout",
     "output_type": "stream",
     "text": [
      " My name is umesh pawar xxxxxxxxxxxxxxxxxxxxxxxxxx\n",
      "************************** My name is umesh pawar \n",
      "$$$$$$$$$$$$$ My name is umesh pawar $$$$$$$$$$$$$\n"
     ]
    }
   ],
   "source": [
    "# 9. What are the methods for right-justifying, left-justifying, and centering a string?\n",
    "The rjust(),ljust(),center() string methods.\n",
    "\n",
    "# str.ljust(s, width[, fillchar])\n",
    "string = ' My name is umesh pawar '\n",
    "width = 50\n",
    "fillchar = 'x' \n",
    "print(string.ljust(width, fillchar))\n",
    "\n",
    "# str.rjust(s, width[, fillchar])\n",
    "string = ' My name is umesh pawar '\n",
    "width = 50\n",
    "fillchar = '*'\n",
    "print(string.rjust(width, fillchar))\n",
    "\n",
    "# str.center(s, width[, fillchar])\n",
    "string = ' My name is umesh pawar '\n",
    "width = 50\n",
    "fillchar = '$'\n",
    "print(string.center(width, fillchar))\n"
   ]
  },
  {
   "cell_type": "code",
   "execution_count": 36,
   "id": "5210a185",
   "metadata": {},
   "outputs": [
    {
     "name": "stdout",
     "output_type": "stream",
     "text": [
      "Full stack data science\n",
      "Full stack data science---\n",
      "---Full stack data science\n"
     ]
    }
   ],
   "source": [
    "# 10. What is the best way to remove whitespace characters from the start or end?\n",
    "The lstrip() and rstrip() methods remove whitesapce characters from the left and right ends of a string.\n",
    "\n",
    "a = \"---Full stack data science---\"\n",
    " \n",
    "# using strip() to delete all.\n",
    "print ( a.strip('-') )\n",
    " \n",
    "# using lstrip() to delete all Left side.\n",
    "print ( a.lstrip('-') )\n",
    " \n",
    "# using rstrip() to delete all Right side.\n",
    "print ( a.rstrip('-') )"
   ]
  },
  {
   "cell_type": "code",
   "execution_count": null,
   "id": "3a2c220b",
   "metadata": {},
   "outputs": [],
   "source": []
  },
  {
   "cell_type": "code",
   "execution_count": null,
   "id": "842fc48c",
   "metadata": {},
   "outputs": [],
   "source": []
  },
  {
   "cell_type": "code",
   "execution_count": null,
   "id": "a48402bf",
   "metadata": {},
   "outputs": [],
   "source": []
  }
 ],
 "metadata": {
  "kernelspec": {
   "display_name": "Python 3 (ipykernel)",
   "language": "python",
   "name": "python3"
  },
  "language_info": {
   "codemirror_mode": {
    "name": "ipython",
    "version": 3
   },
   "file_extension": ".py",
   "mimetype": "text/x-python",
   "name": "python",
   "nbconvert_exporter": "python",
   "pygments_lexer": "ipython3",
   "version": "3.9.7"
  }
 },
 "nbformat": 4,
 "nbformat_minor": 5
}
