{
 "cells": [
  {
   "cell_type": "code",
   "execution_count": 1,
   "id": "6096c34a",
   "metadata": {},
   "outputs": [],
   "source": [
    "1. Why are functions advantageous to have in your programs?\n",
    "2. When does the code in a function run: when its specified or when its called?\n",
    "3. What statement creates a function?\n",
    "4. What is the difference between a function and a function call?\n",
    "5. How many global scopes are there in a Python program? How many local scopes?\n",
    "6. What happens to variables in a local scope when the function call returns?\n",
    "7. What is the concept of a return value? Is it possible to have a return value in an expression?\n",
    "8. If a function does not have a return statement, what is the return value of a call to that function?\n",
    "9. How do you make a function variable refer to the global variable?\n",
    "10. What is the data type of None?\n",
    "11. What does the sentence import areallyourpetsnamederic do?\n",
    "12. If you had a bacon() feature in a spam module, what would you call it after importing spam?\n",
    "13. What can you do to save a programme from crashing if it encounters an error?\n",
    "14. What is the purpose of the try clause? What is the purpose of the except clause?"
   ]
  },
  {
   "cell_type": "markdown",
   "id": "06d74511",
   "metadata": {},
   "source": [
    "<!--  -->"
   ]
  },
  {
   "cell_type": "code",
   "execution_count": null,
   "id": "f1da323f",
   "metadata": {},
   "outputs": [],
   "source": [
    "# 1. Why are functions advantageous to have in your programs?\n",
    "The big advantage of having functions in your programs is its reusability. Once a function is written then \n",
    "we do not need to write it again. "
   ]
  },
  {
   "cell_type": "code",
   "execution_count": null,
   "id": "0fd63fce",
   "metadata": {},
   "outputs": [],
   "source": [
    "# 2. When does the code in a function run: when its specified or when its called?\n",
    "The code in function run when we call it.\n"
   ]
  },
  {
   "cell_type": "code",
   "execution_count": null,
   "id": "0d42fee4",
   "metadata": {},
   "outputs": [],
   "source": [
    "# 3. What statement creates a function?\n",
    "def statement creates a function"
   ]
  },
  {
   "cell_type": "code",
   "execution_count": null,
   "id": "17118a2a",
   "metadata": {},
   "outputs": [],
   "source": [
    "# 4. What is the difference between a function and a function call?\n",
    "Function is piece of code which enhance the reusability of the code. We do not need to write the code again.\n",
    "Function call means we are calling the function. A function is useless until we do not call it.\n"
   ]
  },
  {
   "cell_type": "code",
   "execution_count": null,
   "id": "44e98255",
   "metadata": {},
   "outputs": [],
   "source": [
    "# 5. How many global scopes are there in a Python program? How many local scopes?\n",
    "There is only one global scope in python per program.\n",
    "The names that you define in local scope are only available or visible to the code within the scope. \n",
    "Local scope is depend on length of code."
   ]
  },
  {
   "cell_type": "code",
   "execution_count": null,
   "id": "c1f5c458",
   "metadata": {},
   "outputs": [],
   "source": [
    "# 6. What happens to variables in a local scope when the function call returns?\n",
    "When the execution of the function terminates,\n",
    "the local variables are destroyed."
   ]
  },
  {
   "cell_type": "code",
   "execution_count": null,
   "id": "fde6de57",
   "metadata": {},
   "outputs": [],
   "source": [
    "# 7. What is the concept of a return value? Is it possible to have a return value in an expression?\n",
    "A return is a value that a function returns to the calling function when it completes its task.\n",
    "Yes it is possible to have a return value in an expression."
   ]
  },
  {
   "cell_type": "code",
   "execution_count": null,
   "id": "9ea5cfe6",
   "metadata": {},
   "outputs": [],
   "source": [
    "# 8. If a function does not have a return statement, what is the return value of a call to that function?\n",
    "A function without return statement returns None ."
   ]
  },
  {
   "cell_type": "code",
   "execution_count": null,
   "id": "c9ac140b",
   "metadata": {},
   "outputs": [],
   "source": [
    "# 9. How do you make a function variable refer to the global variable?\n",
    "Global variable is not connected to any particular function which means it is free to be called in any function \n",
    "and also be reused. \n",
    "Therefore to refer a function variable to global variable we use global keyword to declare which variable are global"
   ]
  },
  {
   "cell_type": "code",
   "execution_count": 3,
   "id": "a57ff6d1",
   "metadata": {},
   "outputs": [],
   "source": [
    "# 10. What is the data type of None?\n",
    " None is a data type of its own."
   ]
  },
  {
   "cell_type": "code",
   "execution_count": null,
   "id": "f7166336",
   "metadata": {},
   "outputs": [],
   "source": [
    "# 11. What does the sentence import areallyourpetsnamederic do?\n",
    "import a module name areallyourpetsnamederic."
   ]
  },
  {
   "cell_type": "code",
   "execution_count": 1,
   "id": "13a28511",
   "metadata": {},
   "outputs": [],
   "source": [
    "# 12. If you had a bacon() feature in a spam module, what would you call it after importing spam ?\n",
    "spam.bacon()"
   ]
  },
  {
   "cell_type": "code",
   "execution_count": null,
   "id": "0d6fc1d6",
   "metadata": {},
   "outputs": [],
   "source": [
    "# 13. What can you do to save a programme from crashing if it encounters an error?\n",
    "error handling can be used to notify the user why the error occurred and\n",
    "exit the process that caused the error."
   ]
  },
  {
   "cell_type": "code",
   "execution_count": 3,
   "id": "d5c0aeac",
   "metadata": {},
   "outputs": [],
   "source": [
    "# 14. What is the purpose of the try clause? What is the purpose of the except clause?\n",
    "A try and except block is used for error handling in Python.\n",
    "Try helps to test the code. If the code inside the try block is error free it is executed.\n",
    "Otherwise the error gets caught and control goes to the except block."
   ]
  },
  {
   "cell_type": "code",
   "execution_count": null,
   "id": "cc0b73bf",
   "metadata": {},
   "outputs": [],
   "source": []
  }
 ],
 "metadata": {
  "kernelspec": {
   "display_name": "Python 3 (ipykernel)",
   "language": "python",
   "name": "python3"
  },
  "language_info": {
   "codemirror_mode": {
    "name": "ipython",
    "version": 3
   },
   "file_extension": ".py",
   "mimetype": "text/x-python",
   "name": "python",
   "nbconvert_exporter": "python",
   "pygments_lexer": "ipython3",
   "version": "3.9.7"
  }
 },
 "nbformat": 4,
 "nbformat_minor": 5
}
