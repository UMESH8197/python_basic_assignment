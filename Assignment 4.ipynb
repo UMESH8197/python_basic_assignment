{
 "cells": [
  {
   "cell_type": "code",
   "execution_count": null,
   "id": "2b9c26d0",
   "metadata": {},
   "outputs": [],
   "source": [
    "1. What exactly is []?\n",
    "2. In a list of values stored in a variable called spam, how would you assign the value hello as the\n",
    "third value? (Assume [2, 4, 6, 8, 10] are in spam.)\n",
    "Lets pretend the spam includes the list [a,b,c,d] for the next three queries.\n",
    "3. What is the value of spam[int(int('3' * 2) / 11)]?\n",
    "4. What is the value of spam[-1]?\n",
    "5. What is the value of spam[:2]?\n",
    "Lets pretend bacon has the list [3.14, cat, 11, cat, True] for the next three questions.\n",
    "6. What is the value of bacon.index(cat)?\n",
    "7. How does bacon.append(99) change the look of the list value in bacon?\n",
    "8. How does bacon.remove(cat) change the look of the list in bacon?\n",
    "9. What are the list concatenation and list replication operators?\n",
    "10. What is difference between the list methods append() and insert()?\n",
    "11. What are the two methods for removing items from a list?\n",
    "12. Describe how list values and string values are identical.\n",
    "13. What&#39;s the difference between tuples and lists?\n",
    "14. How do you type a tuple value that only contains the integer 42?\n",
    "15. How do you get a list value's tuple form? How do you get a tuple value's list form?\n",
    "16. Variables that 'contain' list values are not necessarily lists themselves. Instead, what do they\n",
    "contain?\n",
    "17. How do you distinguish between copy.copy() and copy.deepcopy()?"
   ]
  },
  {
   "cell_type": "code",
   "execution_count": null,
   "id": "302453cd",
   "metadata": {},
   "outputs": [],
   "source": [
    "# 1. What exactly is []?\n",
    "[]This is the symbol of empty or blank list."
   ]
  },
  {
   "cell_type": "code",
   "execution_count": null,
   "id": "759e3b1c",
   "metadata": {},
   "outputs": [],
   "source": [
    "# 2. In a list of values stored in a variable called spam, how would you assign the value 'hello' as the\n",
    "# third value? (Assume [2, 4, 6, 8, 10] are in spam.)\n",
    "spam.append('hello')"
   ]
  },
  {
   "cell_type": "code",
   "execution_count": 1,
   "id": "c74bab8c",
   "metadata": {},
   "outputs": [],
   "source": [
    "# Lets pretend the spam includes the list [a,b,c,d] for the next three queries.\n",
    "# 3. What is the value of spam[int(int('3'* 2) / 11)]?\n",
    "'d'"
   ]
  },
  {
   "cell_type": "code",
   "execution_count": null,
   "id": "1543769f",
   "metadata": {},
   "outputs": [],
   "source": [
    "# 4. What is the value of spam[-1]?\n",
    "'d'"
   ]
  },
  {
   "cell_type": "code",
   "execution_count": null,
   "id": "ad1b2bb3",
   "metadata": {},
   "outputs": [],
   "source": [
    "# 5. What is the value of spam[:2]?\n",
    "['a', 'b']"
   ]
  },
  {
   "cell_type": "code",
   "execution_count": 5,
   "id": "d73be8bb",
   "metadata": {},
   "outputs": [],
   "source": [
    "# Lets pretend bacon has the list [3.14, cat, 11, cat, True] for the next three questions.\n",
    "# 6. What is the value of bacon.index(cat)?\n",
    "= 1"
   ]
  },
  {
   "cell_type": "code",
   "execution_count": 17,
   "id": "7cbeeccf",
   "metadata": {},
   "outputs": [],
   "source": [
    "# 7. How does bacon.append(99) change the look of the list value in bacon?\n",
    "= Before appending [3.14, 'cat', 11, 'cat', True]\n",
    "  After appending [3.14, 'cat', 11, 'cat', True, 99]"
   ]
  },
  {
   "cell_type": "code",
   "execution_count": null,
   "id": "9c666369",
   "metadata": {},
   "outputs": [],
   "source": [
    "# 8. How does bacon.remove(cat) change the look of the list in bacon?\n",
    "=   Before removing [3.14, 'cat', 11, 'cat', True, 99]\n",
    "    After removing [3.14, 11, 'cat', True, 99]"
   ]
  },
  {
   "cell_type": "code",
   "execution_count": null,
   "id": "8111b392",
   "metadata": {},
   "outputs": [],
   "source": [
    "# 9. What are the list concatenation and list replication operators?\n",
    "The operator for list concatenation is +, while the operator for replication is *. "
   ]
  },
  {
   "cell_type": "code",
   "execution_count": null,
   "id": "2fc9f471",
   "metadata": {},
   "outputs": [],
   "source": [
    "# 10. What is difference between the list methods append() and insert()?\n",
    "= List method append append value at the end of list. Insert method insert value in list at given position."
   ]
  },
  {
   "cell_type": "code",
   "execution_count": null,
   "id": "5cf013d9",
   "metadata": {},
   "outputs": [],
   "source": [
    "# 11. What are the two methods for removing items from a list?\n",
    "= 1st method is remove function. 2nd one is pop method."
   ]
  },
  {
   "cell_type": "code",
   "execution_count": null,
   "id": "11bd10f4",
   "metadata": {},
   "outputs": [],
   "source": [
    "# 12. Describe how list values and string values are identical.\n",
    "= both are sequences.We can slice list values and string values. \n",
    "  In list values and string values we can add string characters, both are iterable.\n"
   ]
  },
  {
   "cell_type": "code",
   "execution_count": null,
   "id": "a2b96e0f",
   "metadata": {},
   "outputs": [],
   "source": [
    "# 13. What is the difference between tuples and lists?\n",
    "The key difference between the tuples and lists is that while the tuples are immutable objects the lists are mutable. \n",
    "The tuple is faster than the list because of static in nature. \n"
   ]
  },
  {
   "cell_type": "code",
   "execution_count": null,
   "id": "5c024db3",
   "metadata": {},
   "outputs": [],
   "source": [
    "# 14. How do you type a tuple value that only contains the integer 42?\n",
    " = I will call the variable in which integer 42 is contained\n",
    "t = (42)"
   ]
  },
  {
   "cell_type": "code",
   "execution_count": null,
   "id": "564bade5",
   "metadata": {},
   "outputs": [],
   "source": [
    "# 15. How do you get a list value's tuple form? How do you get a tuple value's list form?\n",
    "By giving tuple() datatype we can get list value's tuple form. \n",
    "Similarly  by giving list() datatype we can get tuple value's list form.\n"
   ]
  },
  {
   "cell_type": "code",
   "execution_count": null,
   "id": "36cb44cf",
   "metadata": {},
   "outputs": [],
   "source": [
    "# 16. Variables that 'contain' list values are not necessarily lists themselves. Instead, what do they\n",
    "# contain?\n",
    "= List can contain values of the types Integers, Floats, Lists, and Tuples"
   ]
  },
  {
   "cell_type": "code",
   "execution_count": null,
   "id": "af60016b",
   "metadata": {},
   "outputs": [],
   "source": [
    "# 17. How do you distinguish between copy.copy() and copy.deepcopy()?\n",
    "copy() create reference to original object. If you change copied object - you change the original object. \n",
    "Deepcopy() creates new object and does real copying of original object to new one.\n",
    "Changing new deepcopied object doesn't affect original object."
   ]
  },
  {
   "cell_type": "code",
   "execution_count": null,
   "id": "419c5db1",
   "metadata": {},
   "outputs": [],
   "source": []
  },
  {
   "cell_type": "code",
   "execution_count": null,
   "id": "3b260bbe",
   "metadata": {},
   "outputs": [],
   "source": []
  },
  {
   "cell_type": "code",
   "execution_count": null,
   "id": "d77c5401",
   "metadata": {},
   "outputs": [],
   "source": []
  },
  {
   "cell_type": "code",
   "execution_count": null,
   "id": "0a2eb58d",
   "metadata": {},
   "outputs": [],
   "source": []
  }
 ],
 "metadata": {
  "kernelspec": {
   "display_name": "Python 3 (ipykernel)",
   "language": "python",
   "name": "python3"
  },
  "language_info": {
   "codemirror_mode": {
    "name": "ipython",
    "version": 3
   },
   "file_extension": ".py",
   "mimetype": "text/x-python",
   "name": "python",
   "nbconvert_exporter": "python",
   "pygments_lexer": "ipython3",
   "version": "3.9.7"
  }
 },
 "nbformat": 4,
 "nbformat_minor": 5
}
