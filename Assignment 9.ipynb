{
 "cells": [
  {
   "cell_type": "code",
   "execution_count": null,
   "id": "2b9c26d0",
   "metadata": {},
   "outputs": [],
   "source": [
    "1. To what does a relative path refer?\n",
    "2. What does an absolute path start with your operating system?\n",
    "3. What do the functions os.getcwd() and os.chdir() do?\n",
    "4. What are the . and .. folders?\n",
    "5. In C:\\bacon\\eggs\\spam.txt, which part is the dir name, and which part is the base name?\n",
    "6.What are the three mode arguments that can be passed to the open() function ?\n",
    "7.What happens if an existing file is opened in write mode ?\n",
    "8.How do you tell the difference between read() and readlines() ?\n"
   ]
  },
  {
   "cell_type": "code",
   "execution_count": 1,
   "id": "f61e3794",
   "metadata": {},
   "outputs": [
    {
     "data": {
      "text/plain": [
       "'E:\\\\data science\\\\ineuron full stack DS\\\\Assignments\\\\PythonBasicAssignments\\\\Assignment_p.ipynb'"
      ]
     },
     "execution_count": 1,
     "metadata": {},
     "output_type": "execute_result"
    }
   ],
   "source": [
    "# 1. To what does a relative path refer?\n",
    "relative path shows current working directory path\n",
    "for me it is: Python Basic Assignments\\Assignment_9.ipynb\n",
    "import os\n",
    "path = 'E:\\data science\\ineuron full stack DS\\Assignments\\PythonBasicAssignments\\Assignment_p.ipynb'\n",
    "os.path.realpath(path)"
   ]
  },
  {
   "cell_type": "code",
   "execution_count": 2,
   "id": "57964c9d",
   "metadata": {},
   "outputs": [
    {
     "data": {
      "text/plain": [
       "'E:\\\\data science\\\\ineuron full stack DS\\\\Assignments\\\\PythonBasicAssignments\\\\Assignment_p.ipynb'"
      ]
     },
     "execution_count": 2,
     "metadata": {},
     "output_type": "execute_result"
    }
   ],
   "source": [
    "# 2. What does an absolute path start with your operating system?\n",
    "absolute path = pwd + relative path\n",
    "absolute path always starts with root directory\n",
    "os.path.abspath(path)"
   ]
  },
  {
   "cell_type": "code",
   "execution_count": 7,
   "id": "aa4d6c33",
   "metadata": {},
   "outputs": [
    {
     "name": "stdout",
     "output_type": "stream",
     "text": [
      "C:\\Users\\user\n",
      "C:\\Users\\user\n"
     ]
    }
   ],
   "source": [
    "# 3. What do the functions os.getcwd() and os.chdir() do?\n",
    "os.chdir() performs change directory\n",
    "os.getcwd() gives current working directory\n",
    "\n",
    "import os\n",
    "print(os.getcwd()) # Prints the current Working Directory\n",
    "path = r'C:\\\\Users\\\\user'\n",
    "os.chdir(path)\n",
    "print(os.getcwd())\n"
   ]
  },
  {
   "cell_type": "code",
   "execution_count": null,
   "id": "39ad37f1",
   "metadata": {},
   "outputs": [],
   "source": [
    "# 4. What are the . and .. folders?\n",
    "these are not real folder but are special names for path\n",
    "(.) = this directory\n",
    "(..)= parent directory"
   ]
  },
  {
   "cell_type": "code",
   "execution_count": 8,
   "id": "0e387212",
   "metadata": {},
   "outputs": [
    {
     "name": "stdout",
     "output_type": "stream",
     "text": [
      "C:\\bacon\\eggs\n",
      "spam.txt\n"
     ]
    }
   ],
   "source": [
    "# 5. In C:\\bacon\\eggs\\spam.txt, which part is the dir name, and which part is the base name?\n",
    "C:\\bacon\\eggs --> dir name\n",
    "spam.txt --> base name\n",
    "import os\n",
    "path = r'C:\\bacon\\eggs\\spam.txt'\n",
    "print(os.path.dirname(path))\n",
    "print(os.path.basename(path))"
   ]
  },
  {
   "cell_type": "code",
   "execution_count": null,
   "id": "ddff81e9",
   "metadata": {},
   "outputs": [],
   "source": [
    "# 6.What are the three mode arguments that can be passed to the open() function ?\n",
    "A file can be Accessed in python using open() function. Open function takes two arguments filename and mode of operation\n",
    "(optional). If mode is not provided, the default mode of opening is Read mode.\n",
    "So, the syntax is: open(filename, mode)\n",
    "\n",
    "‘r’ – Read Mode: This is the default mode for open(). The file is opened and a pointer is positioned at the beginning\n",
    "                 of the file’s content.\n",
    "‘w’ – Write Mode: Using this mode will overwrite any existing content in a file. If the given file does not exist, \n",
    "                  a new one will be created.\n",
    "‘r+’ – Read/Write Mode: Use this mode if you need to simultaneously read and write to a file.\n",
    "‘a’ – Append Mode: With this mode the user can append the data without overwriting any already existing data in the file.\n",
    "‘a+’ – Append and Read Mode: In this mode you can read and append the data without overwriting the original file.\n",
    "‘x’ – Exclusive Creating Mode: This mode is for the sole purpose of creating new files.\n",
    "      Use this mode if you know the file to be written doesn’t exist beforehand."
   ]
  },
  {
   "cell_type": "code",
   "execution_count": null,
   "id": "92d6c08a",
   "metadata": {},
   "outputs": [],
   "source": [
    "# 7.What happens if an existing file is opened in write mode ?\n",
    "Using this mode, we can overwrite any existing content in a file. \n",
    "If the given file does not exist then a new one will be created."
   ]
  },
  {
   "cell_type": "code",
   "execution_count": null,
   "id": "ff3f7e55",
   "metadata": {},
   "outputs": [],
   "source": [
    "# 8.How do you tell the difference between read() and readlines() ?\n",
    "The main difference is that read() will read the whole file at once and then print out the first characters \n",
    "that take up as many bytes as we specify in the parenthesis\n",
    "\n",
    "Whereas the readline() that will read and print out only the first characters that take up as many bytes as we specify in \n",
    "the parenthesis. We may want to use readline() when we are reading files that are too big for our RAM.\n",
    "The read() would treat each character in the file separately, meaning that the iteration would happen for every character.\n",
    "The readline() function, on the other hand, only reads a single line of the file. This means that \n",
    "if the first line of the file were three lines long, the readline() function would only parse (or iterate/operate) on the \n",
    "first line of the file."
   ]
  },
  {
   "cell_type": "code",
   "execution_count": 11,
   "id": "61a13151",
   "metadata": {},
   "outputs": [
    {
     "name": "stdout",
     "output_type": "stream",
     "text": [
      "A Shelve file with SampleFile name is successfully created\n",
      "All entries are successfully made inside the sample shelve file\n"
     ]
    }
   ],
   "source": [
    "# 9.What data structure does a shelf value resemble ?\n",
    "It contains key and values it represents dictionary. The Shelve Module of Python is a very popular module of Python\n",
    "which works like an effective tool for persistent data storage inside files using a Python program.\n",
    "As the name of this module suggests, i.e., Shelve, we can easily interpret that it will work as a shelf object to keep all\n",
    "our data inside a file and save all the necessary information. In the Shelve Module, a shelf object is defined, \n",
    "which acts like a dictionary-type object, and it is persistently stored in the disk file of our computer. \n",
    "That is  how we can save all the data and information through Python Shelve Module in our system and\n",
    "keep it till whenever we want. \n",
    "import shelve   \n",
    "shelveVariable = shelve.open(\"SampleFile\")  \n",
    "print(\"A Shelve file with SampleFile name is successfully created\")    \n",
    "shelveVariable['Employee Name'] = 'shivan sharma'  \n",
    "shelveVariable['Employee Age'] = 25  \n",
    "shelveVariable['Employee department'] = 'IT'  \n",
    "shelveVariable['Employee Performance'] = 'Excellent'  \n",
    "shelveVariable['Employee Score'] = 9.2  \n",
    "shelveVariable.close()  \n",
    "print(\"All entries are successfully made inside the sample shelve file\")  "
   ]
  },
  {
   "cell_type": "code",
   "execution_count": null,
   "id": "9d494bd1",
   "metadata": {},
   "outputs": [],
   "source": []
  },
  {
   "cell_type": "code",
   "execution_count": 15,
   "id": "a1a8cbe8",
   "metadata": {},
   "outputs": [],
   "source": []
  },
  {
   "cell_type": "code",
   "execution_count": null,
   "id": "8bbcb353",
   "metadata": {},
   "outputs": [],
   "source": []
  }
 ],
 "metadata": {
  "kernelspec": {
   "display_name": "Python 3 (ipykernel)",
   "language": "python",
   "name": "python3"
  },
  "language_info": {
   "codemirror_mode": {
    "name": "ipython",
    "version": 3
   },
   "file_extension": ".py",
   "mimetype": "text/x-python",
   "name": "python",
   "nbconvert_exporter": "python",
   "pygments_lexer": "ipython3",
   "version": "3.9.7"
  }
 },
 "nbformat": 4,
 "nbformat_minor": 5
}
