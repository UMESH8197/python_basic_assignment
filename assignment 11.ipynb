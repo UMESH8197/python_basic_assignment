{
 "cells": [
  {
   "cell_type": "code",
   "execution_count": null,
   "id": "39cd496e",
   "metadata": {},
   "outputs": [],
   "source": [
    "1. Create an assert statement that throws an AssertionError if the variable spam is a negative integer.\n",
    "2. Write an assert statement that triggers an AssertionError if the variables eggs and bacon contain strings that are the\n",
    "   same as each other, even if their cases are different (that is, 'hello' and 'hello' are considered the same,\n",
    "   and 'goodbye' and 'GOODbye' are also considered the same).\n",
    "3. Create an assert statement that throws an AssertionError every time.\n",
    "4. What are the two lines that must be present in your software in order to call logging.debug()?\n",
    "5. What are the two lines that your program must have in order to have logging.debug() send a logging message to \n",
    "  a file named programLog.txt?\n",
    "6. What are the five levels of logging?\n",
    "7. What line of code would you add to your software to disable all logging messages?\n",
    "8.Why is using logging messages better than using print() to display the same message?\n",
    "9.What are the differences between the Step Over, Step In, and Step Out buttons in the debugger?\n",
    "10.After you click Continue, when will the debugger stop ?\n"
   ]
  },
  {
   "cell_type": "code",
   "execution_count": null,
   "id": "9153f610",
   "metadata": {},
   "outputs": [],
   "source": []
  },
  {
   "cell_type": "code",
   "execution_count": null,
   "id": "9b819388",
   "metadata": {},
   "outputs": [],
   "source": []
  },
  {
   "cell_type": "code",
   "execution_count": 2,
   "id": "6ecb2c5e",
   "metadata": {},
   "outputs": [
    {
     "ename": "AssertionError",
     "evalue": "enter positive number",
     "output_type": "error",
     "traceback": [
      "\u001b[1;31m---------------------------------------------------------------------------\u001b[0m",
      "\u001b[1;31mAssertionError\u001b[0m                            Traceback (most recent call last)",
      "\u001b[1;32m~\\AppData\\Local\\Temp/ipykernel_8832/778991286.py\u001b[0m in \u001b[0;36m<module>\u001b[1;34m\u001b[0m\n\u001b[0;32m      3\u001b[0m     \u001b[1;32massert\u001b[0m \u001b[0mspam\u001b[0m\u001b[1;33m>\u001b[0m\u001b[1;36m0\u001b[0m \u001b[1;33m,\u001b[0m \u001b[1;34m\"enter positive number\"\u001b[0m\u001b[1;33m\u001b[0m\u001b[1;33m\u001b[0m\u001b[0m\n\u001b[0;32m      4\u001b[0m \u001b[1;33m\u001b[0m\u001b[0m\n\u001b[1;32m----> 5\u001b[1;33m \u001b[0mcheck_neg\u001b[0m\u001b[1;33m(\u001b[0m\u001b[1;33m-\u001b[0m\u001b[1;36m1\u001b[0m\u001b[1;33m)\u001b[0m\u001b[1;33m\u001b[0m\u001b[1;33m\u001b[0m\u001b[0m\n\u001b[0m",
      "\u001b[1;32m~\\AppData\\Local\\Temp/ipykernel_8832/778991286.py\u001b[0m in \u001b[0;36mcheck_neg\u001b[1;34m(spam)\u001b[0m\n\u001b[0;32m      1\u001b[0m \u001b[1;31m# 1. Create an assert statement that throws an AssertionError if the variable spam is a negative integer.\u001b[0m\u001b[1;33m\u001b[0m\u001b[1;33m\u001b[0m\u001b[0m\n\u001b[0;32m      2\u001b[0m \u001b[1;32mdef\u001b[0m \u001b[0mcheck_neg\u001b[0m\u001b[1;33m(\u001b[0m\u001b[0mspam\u001b[0m\u001b[1;33m)\u001b[0m\u001b[1;33m:\u001b[0m\u001b[1;33m\u001b[0m\u001b[1;33m\u001b[0m\u001b[0m\n\u001b[1;32m----> 3\u001b[1;33m     \u001b[1;32massert\u001b[0m \u001b[0mspam\u001b[0m\u001b[1;33m>\u001b[0m\u001b[1;36m0\u001b[0m \u001b[1;33m,\u001b[0m \u001b[1;34m\"enter positive number\"\u001b[0m\u001b[1;33m\u001b[0m\u001b[1;33m\u001b[0m\u001b[0m\n\u001b[0m\u001b[0;32m      4\u001b[0m \u001b[1;33m\u001b[0m\u001b[0m\n\u001b[0;32m      5\u001b[0m \u001b[0mcheck_neg\u001b[0m\u001b[1;33m(\u001b[0m\u001b[1;33m-\u001b[0m\u001b[1;36m1\u001b[0m\u001b[1;33m)\u001b[0m\u001b[1;33m\u001b[0m\u001b[1;33m\u001b[0m\u001b[0m\n",
      "\u001b[1;31mAssertionError\u001b[0m: enter positive number"
     ]
    }
   ],
   "source": [
    "# 1. Create an assert statement that throws an AssertionError if the variable spam is a negative integer.\n",
    "def check_neg(spam):\n",
    "    assert spam>0 , \"enter positive number\"\n",
    "    \n",
    "check_neg(-1)"
   ]
  },
  {
   "cell_type": "code",
   "execution_count": 3,
   "id": "90839733",
   "metadata": {},
   "outputs": [
    {
     "ename": "AssertionError",
     "evalue": "Enter same words and also check the lower and upper case",
     "output_type": "error",
     "traceback": [
      "\u001b[1;31m---------------------------------------------------------------------------\u001b[0m",
      "\u001b[1;31mAssertionError\u001b[0m                            Traceback (most recent call last)",
      "\u001b[1;32m~\\AppData\\Local\\Temp/ipykernel_8832/981622865.py\u001b[0m in \u001b[0;36m<module>\u001b[1;34m\u001b[0m\n\u001b[0;32m      8\u001b[0m \u001b[0meggs\u001b[0m \u001b[1;33m=\u001b[0m \u001b[1;34m\"goodbye\"\u001b[0m\u001b[1;33m\u001b[0m\u001b[1;33m\u001b[0m\u001b[0m\n\u001b[0;32m      9\u001b[0m \u001b[0mbacon\u001b[0m \u001b[1;33m=\u001b[0m \u001b[1;34m\"GOODbye\"\u001b[0m\u001b[1;33m\u001b[0m\u001b[1;33m\u001b[0m\u001b[0m\n\u001b[1;32m---> 10\u001b[1;33m \u001b[0massert_stat\u001b[0m\u001b[1;33m(\u001b[0m\u001b[0meggs\u001b[0m\u001b[1;33m,\u001b[0m\u001b[0mbacon\u001b[0m\u001b[1;33m)\u001b[0m\u001b[1;33m\u001b[0m\u001b[1;33m\u001b[0m\u001b[0m\n\u001b[0m",
      "\u001b[1;32m~\\AppData\\Local\\Temp/ipykernel_8832/981622865.py\u001b[0m in \u001b[0;36massert_stat\u001b[1;34m(eggs, bacon)\u001b[0m\n\u001b[0;32m      4\u001b[0m \u001b[1;32mdef\u001b[0m \u001b[0massert_stat\u001b[0m\u001b[1;33m(\u001b[0m\u001b[0meggs\u001b[0m\u001b[1;33m,\u001b[0m \u001b[0mbacon\u001b[0m\u001b[1;33m)\u001b[0m\u001b[1;33m:\u001b[0m\u001b[1;33m\u001b[0m\u001b[1;33m\u001b[0m\u001b[0m\n\u001b[0;32m      5\u001b[0m \u001b[1;33m\u001b[0m\u001b[0m\n\u001b[1;32m----> 6\u001b[1;33m     \u001b[1;32massert\u001b[0m \u001b[0meggs\u001b[0m\u001b[1;33m==\u001b[0m\u001b[0mbacon\u001b[0m\u001b[1;33m,\u001b[0m \u001b[1;34m\"Enter same words and also check the lower and upper case\"\u001b[0m\u001b[1;33m\u001b[0m\u001b[1;33m\u001b[0m\u001b[0m\n\u001b[0m\u001b[0;32m      7\u001b[0m \u001b[1;33m\u001b[0m\u001b[0m\n\u001b[0;32m      8\u001b[0m \u001b[0meggs\u001b[0m \u001b[1;33m=\u001b[0m \u001b[1;34m\"goodbye\"\u001b[0m\u001b[1;33m\u001b[0m\u001b[1;33m\u001b[0m\u001b[0m\n",
      "\u001b[1;31mAssertionError\u001b[0m: Enter same words and also check the lower and upper case"
     ]
    }
   ],
   "source": [
    "# 2. Write an assert statement that triggers an AssertionError if the variables eggs and bacon contain strings that are the\n",
    "# same as each other, even if their cases are different (that is, 'hello' and 'hello' are considered the same,\n",
    "# and 'goodbye' and 'GOODbye' are also considered the same).\n",
    "def assert_stat(eggs, bacon):\n",
    "    \n",
    "    assert eggs==bacon, \"Enter same words and also check the lower and upper case\"\n",
    "    \n",
    "eggs = \"goodbye\"\n",
    "bacon = \"GOODbye\"\n",
    "assert_stat(eggs,bacon)"
   ]
  },
  {
   "cell_type": "code",
   "execution_count": 4,
   "id": "b19eaceb",
   "metadata": {},
   "outputs": [
    {
     "ename": "AssertionError",
     "evalue": "Always Shows Assertion Error",
     "output_type": "error",
     "traceback": [
      "\u001b[1;31m---------------------------------------------------------------------------\u001b[0m",
      "\u001b[1;31mAssertionError\u001b[0m                            Traceback (most recent call last)",
      "\u001b[1;32m~\\AppData\\Local\\Temp/ipykernel_8832/1973544296.py\u001b[0m in \u001b[0;36m<module>\u001b[1;34m\u001b[0m\n\u001b[0;32m      2\u001b[0m \u001b[1;32mdef\u001b[0m \u001b[0massert_always\u001b[0m\u001b[1;33m(\u001b[0m\u001b[1;33m)\u001b[0m\u001b[1;33m:\u001b[0m\u001b[1;33m\u001b[0m\u001b[1;33m\u001b[0m\u001b[0m\n\u001b[0;32m      3\u001b[0m     \u001b[1;32massert\u001b[0m \u001b[1;32mFalse\u001b[0m\u001b[1;33m,\u001b[0m \u001b[1;34m'Always Shows Assertion Error'\u001b[0m\u001b[1;33m\u001b[0m\u001b[1;33m\u001b[0m\u001b[0m\n\u001b[1;32m----> 4\u001b[1;33m \u001b[0massert_always\u001b[0m\u001b[1;33m(\u001b[0m\u001b[1;33m)\u001b[0m\u001b[1;33m\u001b[0m\u001b[1;33m\u001b[0m\u001b[0m\n\u001b[0m",
      "\u001b[1;32m~\\AppData\\Local\\Temp/ipykernel_8832/1973544296.py\u001b[0m in \u001b[0;36massert_always\u001b[1;34m()\u001b[0m\n\u001b[0;32m      1\u001b[0m \u001b[1;31m# 3. Create an assert statement that throws an AssertionError every time.\u001b[0m\u001b[1;33m\u001b[0m\u001b[1;33m\u001b[0m\u001b[0m\n\u001b[0;32m      2\u001b[0m \u001b[1;32mdef\u001b[0m \u001b[0massert_always\u001b[0m\u001b[1;33m(\u001b[0m\u001b[1;33m)\u001b[0m\u001b[1;33m:\u001b[0m\u001b[1;33m\u001b[0m\u001b[1;33m\u001b[0m\u001b[0m\n\u001b[1;32m----> 3\u001b[1;33m     \u001b[1;32massert\u001b[0m \u001b[1;32mFalse\u001b[0m\u001b[1;33m,\u001b[0m \u001b[1;34m'Always Shows Assertion Error'\u001b[0m\u001b[1;33m\u001b[0m\u001b[1;33m\u001b[0m\u001b[0m\n\u001b[0m\u001b[0;32m      4\u001b[0m \u001b[0massert_always\u001b[0m\u001b[1;33m(\u001b[0m\u001b[1;33m)\u001b[0m\u001b[1;33m\u001b[0m\u001b[1;33m\u001b[0m\u001b[0m\n",
      "\u001b[1;31mAssertionError\u001b[0m: Always Shows Assertion Error"
     ]
    }
   ],
   "source": [
    "# 3. Create an assert statement that throws an AssertionError every time.\n",
    "def assert_always():\n",
    "    assert False, 'Always Shows Assertion Error'\n",
    "assert_always()"
   ]
  },
  {
   "cell_type": "code",
   "execution_count": 5,
   "id": "0478286d",
   "metadata": {},
   "outputs": [],
   "source": [
    "# 4. What are the two lines that must be present in your software in order to call logging.debug()?\n",
    "import logging\n",
    "logging.basicConfig(filename = 'trial.txt',level = logging.DEBUG, format = '%(asctime)s - %(message)s - %(levelname)s')\n",
    "logging.debug('Start')\n",
    "logging.debug('End')"
   ]
  },
  {
   "cell_type": "code",
   "execution_count": 6,
   "id": "82ab0383",
   "metadata": {},
   "outputs": [],
   "source": [
    "# 5. What are the two lines that your program must have in order to have logging.debug() send a logging message to \n",
    "# a file named programLog.txt?\n",
    "logging.basicConfig(\n",
    "    filename='programLog.txt', level=logging.DEBUG, format='%(message)s - %(asctime)s - %(levelname)s')\n",
    "logging.debug(\"hahaha test message\")\n",
    "logging.debug('hahaha is a test message.')"
   ]
  },
  {
   "cell_type": "code",
   "execution_count": null,
   "id": "ec6a34f3",
   "metadata": {},
   "outputs": [],
   "source": [
    "# 6. What are the five levels of logging?\n",
    "The Five levels of Logging provided by Pythons Logging Module are \n",
    "CRITICAL(50), ERROR(40), WARNING(30), INFO(20, DEBUG(10), NOTSET(0)"
   ]
  },
  {
   "cell_type": "code",
   "execution_count": 7,
   "id": "f1343562",
   "metadata": {},
   "outputs": [],
   "source": [
    "# 7. What line of code would you add to your software to disable all logging messages?\n",
    "logging.disable = True"
   ]
  },
  {
   "cell_type": "code",
   "execution_count": null,
   "id": "1dd139d6",
   "metadata": {},
   "outputs": [],
   "source": [
    "# 8.Why is using logging messages better than using print() to display the same message?\n",
    "Post devlopment of our code, we can disable logging messages without removing the logging function,\n",
    "whereas we need to manually remove print() statements, which would become a tedious activity. \n",
    "Also, print is used when we want to display any particular message or help whereas logging is used to record all events \n",
    "such as error, info, debug messages, timestamps."
   ]
  },
  {
   "cell_type": "code",
   "execution_count": null,
   "id": "e296c45e",
   "metadata": {},
   "outputs": [],
   "source": [
    "# 9.What are the differences between the Step Over, Step In, and Step Out buttons in the debugger?\n",
    "The Differences between Step Over, Step In, Step Out buttons in debugger are:\n",
    "\n",
    "Step in - Step In button will cause the debugger to execute the next line of code and then pause again.\n",
    "Step Over - Step Over button will execute the next line of code, similar to the Step In button. However,\n",
    "           if the next line of code is a function call, the Step Over button will “step over” the code in the function. \n",
    "      The function’s code will be executed at full speed, and the debugger will pause as soon as the function call returns.\n",
    "Step out - Step Out button will cause the debugger to execute lines of code at full speed until it returns \n",
    "           from the current function."
   ]
  },
  {
   "cell_type": "code",
   "execution_count": null,
   "id": "665d4a68",
   "metadata": {},
   "outputs": [],
   "source": [
    "# 10.After you click Continue, when will the debugger stop ?\n",
    "This will cause the program to continue running normally,\n",
    "without pausing for debugging untill it terminates or reaches a breakpoint."
   ]
  },
  {
   "cell_type": "code",
   "execution_count": null,
   "id": "7ef8c05e",
   "metadata": {},
   "outputs": [],
   "source": [
    "# 11. What is the concept of a breakpoint?\n",
    "Breakpoint is a setting on a line of code that causes the debugger to pause when the program execution reaches the line"
   ]
  }
 ],
 "metadata": {
  "kernelspec": {
   "display_name": "Python 3 (ipykernel)",
   "language": "python",
   "name": "python3"
  },
  "language_info": {
   "codemirror_mode": {
    "name": "ipython",
    "version": 3
   },
   "file_extension": ".py",
   "mimetype": "text/x-python",
   "name": "python",
   "nbconvert_exporter": "python",
   "pygments_lexer": "ipython3",
   "version": "3.9.7"
  }
 },
 "nbformat": 4,
 "nbformat_minor": 5
}
