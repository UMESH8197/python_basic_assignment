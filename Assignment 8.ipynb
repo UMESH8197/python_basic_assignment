{
 "cells": [
  {
   "cell_type": "code",
   "execution_count": null,
   "id": "2b9c26d0",
   "metadata": {},
   "outputs": [],
   "source": [
    "1. Is the Python Standard Library included with PyInputPlus?\n",
    "2. Why is PyInputPlus commonly imported with import pyinputplus as pypi?\n",
    "3. How do you distinguish between inputInt() and inputFloat()?\n",
    "4. Using PyInputPlus, how do you ensure that the user enters a whole number between 0 and 99?\n",
    "5. What is transferred to the keyword arguments allowRegexes and blockRegexes?\n",
    "6. If a blank input is entered three times, what does inputStr(limit=3) do?\n",
    "7. If blank input is entered three times, what does inputStr(limit=3, default=&#39;hello&#39;) do?"
   ]
  },
  {
   "cell_type": "code",
   "execution_count": null,
   "id": "f61e3794",
   "metadata": {},
   "outputs": [],
   "source": [
    "# 1. Is the Python Standard Library included with PyInputPlus?\n",
    "No, PyInputPlus is not a part of Python Standard Library,\n",
    "it needs to be installed explicitly using the command !pip install PyInputPlus"
   ]
  },
  {
   "cell_type": "code",
   "execution_count": 3,
   "id": "57964c9d",
   "metadata": {},
   "outputs": [],
   "source": [
    "# 2. Why is PyInputPlus commonly imported with import pyinputplus as pypi?\n",
    "You can import the module with import pyinputplus as pypi so that you can enter a shorter name \n",
    "when calling the module's functions. \n",
    "pip install pyinputplus as pyip  or import pyinputplus as pypi "
   ]
  },
  {
   "cell_type": "code",
   "execution_count": 2,
   "id": "aa4d6c33",
   "metadata": {},
   "outputs": [
    {
     "name": "stdout",
     "output_type": "stream",
     "text": [
      "Enter an Integer value... 25\n",
      "25\n",
      "Enter Float value... 25\n",
      "25.0\n"
     ]
    }
   ],
   "source": [
    "# 3. How do you distinguish between inputInt() and inputFloat()?\n",
    "inputInt() function Accepts an integer value. This also takes additional parameters min, max, greaterThan and\n",
    "lessThan for bounds. And it always returns an int.\n",
    "\n",
    "Whereas inputFloat() function Accepts a floating-point numeric value. \n",
    "this also takes additional min, max, greaterThan and lessThan parameters. and always returns a float.\n",
    "import pyinputplus as pypi\n",
    "\n",
    "inp = pypi.inputInt(prompt = \"Enter an Integer value... \", \n",
    "                    default = 0, limit = 3)\n",
    "    \n",
    "print(inp)\n",
    "\n",
    "inp2 = pypi.inputFloat(prompt = \"Enter Float value... \", \n",
    "                    default = 0, limit = 3)\n",
    "  \n",
    "print(inp2)\n"
   ]
  },
  {
   "cell_type": "code",
   "execution_count": null,
   "id": "e89af580",
   "metadata": {},
   "outputs": [
    {
     "name": "stdout",
     "output_type": "stream",
     "text": [
      "Enter a number: 150\n",
      "Number must be at maximum 100.\n",
      "Enter a number: 90\n",
      "90\n",
      "Enter a number: "
     ]
    }
   ],
   "source": [
    "# 4. Using PyInputPlus, how do you ensure that the user enters a whole number between 0 and 99?\n",
    "PyInputPlus module provides a function called as inputInt() which only returns only integer values. \n",
    "inorder to restrict the input between 0 and 99, i will use parameters like min & max to ensure that \n",
    "user enters the values between the defined range only.\n",
    "\n",
    "import pyinputplus as pyip\n",
    "wholenumber = pyip.inputInt(prompt='Enter a number: ', min=0, max=100)\n",
    "print(wholenumber)\n",
    "\n",
    "import pyinputplus as pyip\n",
    "wholenumber = pyip.inputInt(prompt='Enter a number: ', min=0, max=100) \n",
    "print(wholenumber)"
   ]
  },
  {
   "cell_type": "code",
   "execution_count": null,
   "id": "0e387212",
   "metadata": {},
   "outputs": [],
   "source": [
    "# 5. What is transferred to the keyword arguments allowRegexes and blockRegexes?\n",
    "we can use allowRegexes and blockRegexes keyword arguments to take list of regular expression strings to determine \n",
    "what the pyinputplus function will reject or accept valid input.\n"
   ]
  },
  {
   "cell_type": "code",
   "execution_count": null,
   "id": "ddff81e9",
   "metadata": {},
   "outputs": [],
   "source": [
    "# 6. If a blank input is entered three times, what does inputStr(limit=3) do?\n",
    "The statement inputStr(limit=3) will throw two exceptions ValidationException and RetryLimitException.\n",
    "The first exception is thrown because blank values are not allowed by inputStr() function by default. \n",
    "if we want to consider blank values as valid input, we have to set blank=True.\n",
    "\n",
    "The second exception is occured because we have reached the max limit we have specified by using limit parameter.\n",
    "inorder to avoid this exception we can use default parameter to return a default value when max limit is reached."
   ]
  },
  {
   "cell_type": "code",
   "execution_count": null,
   "id": "92d6c08a",
   "metadata": {},
   "outputs": [],
   "source": [
    "# 7. If blank input is entered three times, what does inputStr(limit=3, default='hello') do?\n",
    "Since the default parameter is set to hello. after blank input is entered three times \n",
    "instead of raising RetryLimitException exception. the function will return hello as response to the calling function"
   ]
  },
  {
   "cell_type": "code",
   "execution_count": null,
   "id": "ff3f7e55",
   "metadata": {},
   "outputs": [],
   "source": []
  },
  {
   "cell_type": "code",
   "execution_count": null,
   "id": "61a13151",
   "metadata": {},
   "outputs": [],
   "source": []
  },
  {
   "cell_type": "code",
   "execution_count": null,
   "id": "9d494bd1",
   "metadata": {},
   "outputs": [],
   "source": []
  }
 ],
 "metadata": {
  "kernelspec": {
   "display_name": "Python 3 (ipykernel)",
   "language": "python",
   "name": "python3"
  },
  "language_info": {
   "codemirror_mode": {
    "name": "ipython",
    "version": 3
   },
   "file_extension": ".py",
   "mimetype": "text/x-python",
   "name": "python",
   "nbconvert_exporter": "python",
   "pygments_lexer": "ipython3",
   "version": "3.9.7"
  }
 },
 "nbformat": 4,
 "nbformat_minor": 5
}
