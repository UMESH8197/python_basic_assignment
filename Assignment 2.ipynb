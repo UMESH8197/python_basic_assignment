{
 "cells": [
  {
   "cell_type": "code",
   "execution_count": null,
   "id": "04abc47e",
   "metadata": {},
   "outputs": [],
   "source": [
    "1.What are the two values of the Boolean data type? How do you write them?\n",
    "2. What are the three different types of Boolean operators?\n",
    "3. Make a list of each Boolean operators truth tables (i.e. every possible combination of Boolean\n",
    "values for the operator and what it evaluate ).\n",
    "4. What are the values of the following expressions?\n",
    "(5 > 4) and (3 == 5)\n",
    "not (5 > 4)\n",
    "(5 > 4) or (3 == 5)\n",
    "not ((5 > 4) or (3 == 5))\n",
    "(True and True) and (True == False)\n",
    "(not False) or (not True)\n",
    "5. What are the six comparison operators?\n",
    "6. How do you tell the difference between the equal to and assignment operators?Describe a\n",
    "condition and when you would use one.\n",
    "7. Identify the three blocks in this code:\n",
    "spam = 0\n",
    "if spam == 10:\n",
    "print(eggs)\n",
    "if spam > 5:\n",
    "print(bacon)\n",
    "else:\n",
    "print(ham)\n",
    "print(spam)\n",
    "print(spam)\n",
    "8. Write code that prints Hello if 1 is stored in spam, prints Howdy if 2 is stored in spam, and prints\n",
    "Greetings! if anything else is stored in spam.\n",
    "\n",
    "9.If your programme is stuck in an endless loop, what keys you’ll press?\n",
    "10. How can you tell the difference between break and continue?\n",
    "11. In a for loop, what is the difference between range(10), range(0, 10), and range(0, 10, 1)?\n",
    "12. Write a short program that prints the numbers 1 to 10 using a for loop. Then write an equivalent\n",
    "program that prints the numbers 1 to 10 using a while loop.\n",
    "13. If you had a function named bacon() inside a module named spam, how would you call it after\n",
    "importing spam?\n"
   ]
  },
  {
   "cell_type": "code",
   "execution_count": 2,
   "id": "95928c5d",
   "metadata": {},
   "outputs": [],
   "source": [
    "1.What are the two values of the Boolean data type? How do you write them?\n",
    "= 1) True 2) False "
   ]
  },
  {
   "cell_type": "code",
   "execution_count": null,
   "id": "199c76b6",
   "metadata": {},
   "outputs": [],
   "source": [
    "2. What are the three different types of Boolean operators?\n",
    "= And, or, not"
   ]
  },
  {
   "cell_type": "code",
   "execution_count": null,
   "id": "1be2d1d1",
   "metadata": {},
   "outputs": [],
   "source": [
    "3. Make a list of each Boolean operators truth tables (i.e. every possible combination of Boolean\n",
    "values for the operator and what it evaluate ).\n",
    "= True and True = True\n",
    "  True or False = True\n",
    "  False or True = True\n",
    "  "
   ]
  },
  {
   "cell_type": "code",
   "execution_count": null,
   "id": "49a8dbdb",
   "metadata": {},
   "outputs": [],
   "source": [
    "4. What are the values of the following expressions?\n",
    "(5 > 4) and (3 == 5)\n",
    "not (5 > 4)\n",
    "(5 > 4) or (3 == 5)\n",
    "not ((5 > 4) or (3 == 5))\n",
    "(True and True) and (True == False)\n",
    "(not False) or (not True)\n",
    "= 1) False\n",
    "  2) False\n",
    "  3) True\n",
    "  4) False\n",
    "  5) False\n",
    "  6) True\n",
    "  "
   ]
  },
  {
   "cell_type": "code",
   "execution_count": 8,
   "id": "500ad882",
   "metadata": {},
   "outputs": [],
   "source": [
    "5. What are the six comparison operators?\n",
    "= 1) <, 2) <=, 3) >, 4) >=, 5) ==, 6) !=.\n"
   ]
  },
  {
   "cell_type": "code",
   "execution_count": null,
   "id": "1fb5ca3b",
   "metadata": {},
   "outputs": [],
   "source": [
    "6. How do you tell the difference between the equal to and assignment operators?Describe a\n",
    "condition and when you would use one.\n",
    "=  In equal to we put values on left side of equal to. e.g 5 + 5 = 10. \n",
    "but in assignment operator we put right side of assignment operator e.g  a = 5 + 5."
   ]
  },
  {
   "cell_type": "code",
   "execution_count": 9,
   "id": "ccb4dd5c",
   "metadata": {},
   "outputs": [],
   "source": [
    "7. Identify the three blocks in this code:\n",
    "spam = 0\n",
    "if spam == 10:\n",
    "print(eggs)\n",
    "if spam > 5:\n",
    "print(bacon)\n",
    "else:\n",
    "print(ham)\n",
    "print(spam)\n",
    "print(spam)\n",
    "= 1) ham\n",
    "  2) spam\n",
    "  3) spam"
   ]
  },
  {
   "cell_type": "code",
   "execution_count": null,
   "id": "5bdf9d8d",
   "metadata": {},
   "outputs": [],
   "source": [
    "8. Write code that prints Hello if 1 is stored in spam, prints Howdy if 2 is stored in spam, and prints\n",
    "Greetings! if anything else is stored in spam.\n",
    "= \n",
    "spam = int(input(\"enter the number : \"))\n",
    "if spam == 1:\n",
    "    print(\"Hello\")\n",
    "elif spam == 2:\n",
    "    print(\"Howdy\")\n",
    "else:\n",
    "    print(\"Greetings!\")"
   ]
  },
  {
   "cell_type": "code",
   "execution_count": null,
   "id": "5e9e6ca6",
   "metadata": {},
   "outputs": [],
   "source": []
  },
  {
   "cell_type": "code",
   "execution_count": 7,
   "id": "c786677b",
   "metadata": {},
   "outputs": [],
   "source": [
    "9.If your programme is stuck in an endless loop, what keys you’ll press?\n",
    "= ctrl + c"
   ]
  },
  {
   "cell_type": "code",
   "execution_count": null,
   "id": "c8220df1",
   "metadata": {},
   "outputs": [],
   "source": [
    "10. How can you tell the difference between break and continue?\n",
    "= break statement will break for and while conditional loop. It early terminates the loop. The break stop the continuation \n",
    "of the loop.\n",
    " Continue will terminate only the current iteration of loop. It causes early execution of the next iteration."
   ]
  },
  {
   "cell_type": "code",
   "execution_count": null,
   "id": "36d5a2be",
   "metadata": {},
   "outputs": [],
   "source": [
    "11. In a for loop, what is the difference between range(10), range(0, 10), and range(0, 10, 1)?\n",
    "= range(10) gives range from 0 to 10 but exclude 10.\n",
    "  range(0, 10) also give same result,but here clearly mention that start from 0 go up to 10.excluding 10.\n",
    "  range (0, 10, 1) result will be same as above 2 but  here it will  increase 1 number on each iteration."
   ]
  },
  {
   "cell_type": "code",
   "execution_count": null,
   "id": "5f125d30",
   "metadata": {},
   "outputs": [],
   "source": [
    "  "
   ]
  },
  {
   "cell_type": "code",
   "execution_count": null,
   "id": "cdbaa37f",
   "metadata": {},
   "outputs": [],
   "source": [
    "12. Write a short program that prints the numbers 1 to 10 using a for loop. Then write an equivalent\n",
    "program that prints the numbers 1 to 10 using a while loop.\n",
    "= for i in range(1,11):\n",
    "print(i)\n",
    "\n",
    "i = 1\n",
    "l = 11\n",
    "while i < l :\n",
    "    print(i)\n",
    "    i = i + 1"
   ]
  },
  {
   "cell_type": "code",
   "execution_count": null,
   "id": "a05a8f09",
   "metadata": {},
   "outputs": [],
   "source": []
  },
  {
   "cell_type": "code",
   "execution_count": 3,
   "id": "1c164d73",
   "metadata": {},
   "outputs": [],
   "source": [
    "13. If you had a function named bacon() inside a module named spam, how would you call it after\n",
    "importing spam?\n",
    "= spam.bacon()"
   ]
  },
  {
   "cell_type": "code",
   "execution_count": null,
   "id": "348c634c",
   "metadata": {},
   "outputs": [],
   "source": []
  },
  {
   "cell_type": "code",
   "execution_count": null,
   "id": "955402db",
   "metadata": {},
   "outputs": [],
   "source": []
  }
 ],
 "metadata": {
  "kernelspec": {
   "display_name": "Python 3 (ipykernel)",
   "language": "python",
   "name": "python3"
  },
  "language_info": {
   "codemirror_mode": {
    "name": "ipython",
    "version": 3
   },
   "file_extension": ".py",
   "mimetype": "text/x-python",
   "name": "python",
   "nbconvert_exporter": "python",
   "pygments_lexer": "ipython3",
   "version": "3.9.7"
  }
 },
 "nbformat": 4,
 "nbformat_minor": 5
}
